{
 "cells": [
  {
   "cell_type": "code",
   "execution_count": 4,
   "id": "a4f709e3",
   "metadata": {},
   "outputs": [
    {
     "name": "stdout",
     "output_type": "stream",
     "text": [
      "Collecting pandas\n",
      "  Using cached pandas-2.3.3-cp314-cp314-macosx_11_0_arm64.whl.metadata (91 kB)\n",
      "Requirement already satisfied: numpy>=1.26.0 in /Users/abdirazak/Developer/python/venv/lib/python3.14/site-packages (from pandas) (2.3.4)\n",
      "Requirement already satisfied: python-dateutil>=2.8.2 in /Users/abdirazak/Developer/python/venv/lib/python3.14/site-packages (from pandas) (2.9.0.post0)\n",
      "Collecting pytz>=2020.1 (from pandas)\n",
      "Collecting pytz>=2020.1 (from pandas)\n",
      "  Downloading pytz-2025.2-py2.py3-none-any.whl.metadata (22 kB)\n",
      "  Downloading pytz-2025.2-py2.py3-none-any.whl.metadata (22 kB)\n",
      "Requirement already satisfied: tzdata>=2022.7 in /Users/abdirazak/Developer/python/venv/lib/python3.14/site-packages (from pandas) (2025.2)\n",
      "Requirement already satisfied: six>=1.5 in /Users/abdirazak/Developer/python/venv/lib/python3.14/site-packages (from python-dateutil>=2.8.2->pandas) (1.17.0)\n",
      "Requirement already satisfied: tzdata>=2022.7 in /Users/abdirazak/Developer/python/venv/lib/python3.14/site-packages (from pandas) (2025.2)\n",
      "Requirement already satisfied: six>=1.5 in /Users/abdirazak/Developer/python/venv/lib/python3.14/site-packages (from python-dateutil>=2.8.2->pandas) (1.17.0)\n",
      "Downloading pandas-2.3.3-cp314-cp314-macosx_11_0_arm64.whl (10.8 MB)\n",
      "\u001b[?25l   \u001b[90m━━━━━━━━━━━━━━━━━━━━━━━━━━━━━━━━━━━━━━━━\u001b[0m \u001b[32m0.0/10.8 MB\u001b[0m \u001b[31m?\u001b[0m eta \u001b[36m-:--:--\u001b[0mDownloading pandas-2.3.3-cp314-cp314-macosx_11_0_arm64.whl (10.8 MB)\n",
      "\u001b[2K   \u001b[90m━━━━━━━━━━━━━━━━━━━━━━━━━━━━━━━━━━━━━━━━\u001b[0m \u001b[32m10.8/10.8 MB\u001b[0m \u001b[31m1.3 MB/s\u001b[0m  \u001b[33m0:00:08\u001b[0m eta \u001b[36m0:00:01\u001b[0m\n",
      "\u001b[2K   \u001b[90m━━━━━━━━━━━━━━━━━━━━━━━━━━━━━━━━━━━━━━━━\u001b[0m \u001b[32m10.8/10.8 MB\u001b[0m \u001b[31m1.3 MB/s\u001b[0m  \u001b[33m0:00:08\u001b[0m\n",
      "\u001b[?25hDownloading pytz-2025.2-py2.py3-none-any.whl (509 kB)\n",
      "Downloading pytz-2025.2-py2.py3-none-any.whl (509 kB)\n",
      "Installing collected packages: pytz, pandas\n",
      "Installing collected packages: pytz, pandas\n",
      "\u001b[2K   \u001b[90m━━━━━━━━━━━━━━━━━━━━━━━━━━━━━━━━━━━━━━━━\u001b[0m \u001b[32m2/2\u001b[0m [pandas]2m1/2\u001b[0m [pandas]\n",
      "\u001b[1A\u001b[2KSuccessfully installed pandas-2.3.3 pytz-2025.2\n",
      "\u001b[2K   \u001b[90m━━━━━━━━━━━━━━━━━━━━━━━━━━━━━━━━━━━━━━━━\u001b[0m \u001b[32m2/2\u001b[0m [pandas]\n",
      "\u001b[1A\u001b[2KSuccessfully installed pandas-2.3.3 pytz-2025.2\n",
      "Note: you may need to restart the kernel to use updated packages.\n",
      "Note: you may need to restart the kernel to use updated packages.\n"
     ]
    }
   ],
   "source": [
    "%pip install pandas\n",
    "# Use %pip rather than plain pip so the notebook's kernel environment is updated\n",
    "# Don't include import aliasing in the install command (that caused the error)"
   ]
  },
  {
   "cell_type": "code",
   "execution_count": 6,
   "id": "39d8d358",
   "metadata": {},
   "outputs": [],
   "source": [
    "import pandas as pd"
   ]
  },
  {
   "cell_type": "code",
   "execution_count": 8,
   "id": "c279d6ac",
   "metadata": {},
   "outputs": [
    {
     "name": "stdout",
     "output_type": "stream",
     "text": [
      "   Store_ID             Store_Name           City         Country\n",
      "0      ST-1     Apple Fifth Avenue       New York   United States\n",
      "1      ST-2     Apple Union Square  San Francisco   United States\n",
      "2      ST-3  Apple Michigan Avenue        Chicago   United States\n",
      "3      ST-4        Apple The Grove    Los Angeles   United States\n",
      "4      ST-5             Apple SoHo       New York   United States\n",
      "..      ...                    ...            ...             ...\n",
      "70    ST-71          Apple Yeouido          Seoul     South Korea\n",
      "71    ST-72         Apple Kumamoto       Kumamoto           Japan\n",
      "72    ST-73    Apple Covent Garden         London  United Kingdom\n",
      "73    ST-74    Apple Central World        Bangkok        Thailand\n",
      "74    ST-75      Apple Beijing SKP        Beijing           China\n",
      "\n",
      "[75 rows x 4 columns]\n"
     ]
    }
   ],
   "source": [
    "df = pd.read_csv('stores.csv')\n",
    "print(df)"
   ]
  },
  {
   "cell_type": "code",
   "execution_count": 12,
   "id": "541f0a11",
   "metadata": {},
   "outputs": [
    {
     "data": {
      "text/html": [
       "<div>\n",
       "<style scoped>\n",
       "    .dataframe tbody tr th:only-of-type {\n",
       "        vertical-align: middle;\n",
       "    }\n",
       "\n",
       "    .dataframe tbody tr th {\n",
       "        vertical-align: top;\n",
       "    }\n",
       "\n",
       "    .dataframe thead th {\n",
       "        text-align: right;\n",
       "    }\n",
       "</style>\n",
       "<table border=\"1\" class=\"dataframe\">\n",
       "  <thead>\n",
       "    <tr style=\"text-align: right;\">\n",
       "      <th></th>\n",
       "      <th>Store_ID</th>\n",
       "      <th>Store_Name</th>\n",
       "      <th>City</th>\n",
       "      <th>Country</th>\n",
       "    </tr>\n",
       "  </thead>\n",
       "  <tbody>\n",
       "    <tr>\n",
       "      <th>70</th>\n",
       "      <td>ST-71</td>\n",
       "      <td>Apple Yeouido</td>\n",
       "      <td>Seoul</td>\n",
       "      <td>South Korea</td>\n",
       "    </tr>\n",
       "    <tr>\n",
       "      <th>71</th>\n",
       "      <td>ST-72</td>\n",
       "      <td>Apple Kumamoto</td>\n",
       "      <td>Kumamoto</td>\n",
       "      <td>Japan</td>\n",
       "    </tr>\n",
       "    <tr>\n",
       "      <th>72</th>\n",
       "      <td>ST-73</td>\n",
       "      <td>Apple Covent Garden</td>\n",
       "      <td>London</td>\n",
       "      <td>United Kingdom</td>\n",
       "    </tr>\n",
       "    <tr>\n",
       "      <th>73</th>\n",
       "      <td>ST-74</td>\n",
       "      <td>Apple Central World</td>\n",
       "      <td>Bangkok</td>\n",
       "      <td>Thailand</td>\n",
       "    </tr>\n",
       "    <tr>\n",
       "      <th>74</th>\n",
       "      <td>ST-75</td>\n",
       "      <td>Apple Beijing SKP</td>\n",
       "      <td>Beijing</td>\n",
       "      <td>China</td>\n",
       "    </tr>\n",
       "  </tbody>\n",
       "</table>\n",
       "</div>"
      ],
      "text/plain": [
       "   Store_ID           Store_Name      City         Country\n",
       "70    ST-71        Apple Yeouido     Seoul     South Korea\n",
       "71    ST-72       Apple Kumamoto  Kumamoto           Japan\n",
       "72    ST-73  Apple Covent Garden    London  United Kingdom\n",
       "73    ST-74  Apple Central World   Bangkok        Thailand\n",
       "74    ST-75    Apple Beijing SKP   Beijing           China"
      ]
     },
     "execution_count": 12,
     "metadata": {},
     "output_type": "execute_result"
    }
   ],
   "source": [
    "# read header\n",
    "df.tail()"
   ]
  },
  {
   "cell_type": "code",
   "execution_count": 13,
   "id": "61e2cd84",
   "metadata": {},
   "outputs": [
    {
     "data": {
      "text/html": [
       "<div>\n",
       "<style scoped>\n",
       "    .dataframe tbody tr th:only-of-type {\n",
       "        vertical-align: middle;\n",
       "    }\n",
       "\n",
       "    .dataframe tbody tr th {\n",
       "        vertical-align: top;\n",
       "    }\n",
       "\n",
       "    .dataframe thead th {\n",
       "        text-align: right;\n",
       "    }\n",
       "</style>\n",
       "<table border=\"1\" class=\"dataframe\">\n",
       "  <thead>\n",
       "    <tr style=\"text-align: right;\">\n",
       "      <th></th>\n",
       "      <th>Store_ID</th>\n",
       "      <th>Store_Name</th>\n",
       "      <th>City</th>\n",
       "      <th>Country</th>\n",
       "    </tr>\n",
       "  </thead>\n",
       "  <tbody>\n",
       "    <tr>\n",
       "      <th>15</th>\n",
       "      <td>ST-16</td>\n",
       "      <td>Apple Regent Street</td>\n",
       "      <td>London</td>\n",
       "      <td>United Kingdom</td>\n",
       "    </tr>\n",
       "    <tr>\n",
       "      <th>16</th>\n",
       "      <td>ST-17</td>\n",
       "      <td>Apple Covent Garden</td>\n",
       "      <td>London</td>\n",
       "      <td>United Kingdom</td>\n",
       "    </tr>\n",
       "    <tr>\n",
       "      <th>27</th>\n",
       "      <td>ST-28</td>\n",
       "      <td>Apple Brompton Road</td>\n",
       "      <td>London</td>\n",
       "      <td>United Kingdom</td>\n",
       "    </tr>\n",
       "    <tr>\n",
       "      <th>72</th>\n",
       "      <td>ST-73</td>\n",
       "      <td>Apple Covent Garden</td>\n",
       "      <td>London</td>\n",
       "      <td>United Kingdom</td>\n",
       "    </tr>\n",
       "  </tbody>\n",
       "</table>\n",
       "</div>"
      ],
      "text/plain": [
       "   Store_ID           Store_Name    City         Country\n",
       "15    ST-16  Apple Regent Street  London  United Kingdom\n",
       "16    ST-17  Apple Covent Garden  London  United Kingdom\n",
       "27    ST-28  Apple Brompton Road  London  United Kingdom\n",
       "72    ST-73  Apple Covent Garden  London  United Kingdom"
      ]
     },
     "execution_count": 13,
     "metadata": {},
     "output_type": "execute_result"
    }
   ],
   "source": [
    "# search for a store in london\n",
    "df[df['City'] == 'London']"
   ]
  },
  {
   "cell_type": "code",
   "execution_count": 19,
   "id": "b246c35d",
   "metadata": {},
   "outputs": [
    {
     "data": {
      "text/plain": [
       "Store_ID  Store_Name                  City       Country  \n",
       "ST-42     Apple Orchard Road          Singapore  Singapore    1\n",
       "ST-45     Apple Jewel Changi Airport  Singapore  Singapore    1\n",
       "ST-66     Apple Orchard Road          Singapore  Singapore    1\n",
       "Name: count, dtype: int64"
      ]
     },
     "execution_count": 19,
     "metadata": {},
     "output_type": "execute_result"
    }
   ],
   "source": [
    "df[df['Country'].str.contains('United States')]\n",
    "\n",
    "# how to count stores per country\n",
    "df[df['Country'] == 'Singapore'].value_counts()"
   ]
  },
  {
   "cell_type": "code",
   "execution_count": 20,
   "id": "cfc6fb01",
   "metadata": {},
   "outputs": [
    {
     "data": {
      "text/html": [
       "<div>\n",
       "<style scoped>\n",
       "    .dataframe tbody tr th:only-of-type {\n",
       "        vertical-align: middle;\n",
       "    }\n",
       "\n",
       "    .dataframe tbody tr th {\n",
       "        vertical-align: top;\n",
       "    }\n",
       "\n",
       "    .dataframe thead th {\n",
       "        text-align: right;\n",
       "    }\n",
       "</style>\n",
       "<table border=\"1\" class=\"dataframe\">\n",
       "  <thead>\n",
       "    <tr style=\"text-align: right;\">\n",
       "      <th></th>\n",
       "      <th>Store_ID</th>\n",
       "      <th>Store_Name</th>\n",
       "      <th>City</th>\n",
       "      <th>Country</th>\n",
       "    </tr>\n",
       "  </thead>\n",
       "  <tbody>\n",
       "    <tr>\n",
       "      <th>count</th>\n",
       "      <td>75</td>\n",
       "      <td>75</td>\n",
       "      <td>75</td>\n",
       "      <td>75</td>\n",
       "    </tr>\n",
       "    <tr>\n",
       "      <th>unique</th>\n",
       "      <td>75</td>\n",
       "      <td>69</td>\n",
       "      <td>47</td>\n",
       "      <td>19</td>\n",
       "    </tr>\n",
       "    <tr>\n",
       "      <th>top</th>\n",
       "      <td>ST-1</td>\n",
       "      <td>Apple Champs-Elysees</td>\n",
       "      <td>London</td>\n",
       "      <td>United States</td>\n",
       "    </tr>\n",
       "    <tr>\n",
       "      <th>freq</th>\n",
       "      <td>1</td>\n",
       "      <td>2</td>\n",
       "      <td>4</td>\n",
       "      <td>15</td>\n",
       "    </tr>\n",
       "  </tbody>\n",
       "</table>\n",
       "</div>"
      ],
      "text/plain": [
       "       Store_ID            Store_Name    City        Country\n",
       "count        75                    75      75             75\n",
       "unique       75                    69      47             19\n",
       "top        ST-1  Apple Champs-Elysees  London  United States\n",
       "freq          1                     2       4             15"
      ]
     },
     "execution_count": 20,
     "metadata": {},
     "output_type": "execute_result"
    }
   ],
   "source": [
    "df.describe()"
   ]
  },
  {
   "cell_type": "code",
   "execution_count": 24,
   "id": "60caeb55",
   "metadata": {},
   "outputs": [
    {
     "data": {
      "text/html": [
       "<div>\n",
       "<style scoped>\n",
       "    .dataframe tbody tr th:only-of-type {\n",
       "        vertical-align: middle;\n",
       "    }\n",
       "\n",
       "    .dataframe tbody tr th {\n",
       "        vertical-align: top;\n",
       "    }\n",
       "\n",
       "    .dataframe thead th {\n",
       "        text-align: right;\n",
       "    }\n",
       "</style>\n",
       "<table border=\"1\" class=\"dataframe\">\n",
       "  <thead>\n",
       "    <tr style=\"text-align: right;\">\n",
       "      <th></th>\n",
       "      <th>Store_ID</th>\n",
       "      <th>Store_Name</th>\n",
       "      <th>City</th>\n",
       "      <th>Country</th>\n",
       "    </tr>\n",
       "  </thead>\n",
       "  <tbody>\n",
       "    <tr>\n",
       "      <th>0</th>\n",
       "      <td>ST-1</td>\n",
       "      <td>Apple Fifth Avenue</td>\n",
       "      <td>New York</td>\n",
       "      <td>United States</td>\n",
       "    </tr>\n",
       "    <tr>\n",
       "      <th>4</th>\n",
       "      <td>ST-5</td>\n",
       "      <td>Apple SoHo</td>\n",
       "      <td>New York</td>\n",
       "      <td>United States</td>\n",
       "    </tr>\n",
       "    <tr>\n",
       "      <th>5</th>\n",
       "      <td>ST-6</td>\n",
       "      <td>Apple Grand Central</td>\n",
       "      <td>New York</td>\n",
       "      <td>United States</td>\n",
       "    </tr>\n",
       "  </tbody>\n",
       "</table>\n",
       "</div>"
      ],
      "text/plain": [
       "  Store_ID           Store_Name      City        Country\n",
       "0     ST-1   Apple Fifth Avenue  New York  United States\n",
       "4     ST-5           Apple SoHo  New York  United States\n",
       "5     ST-6  Apple Grand Central  New York  United States"
      ]
     },
     "execution_count": 24,
     "metadata": {},
     "output_type": "execute_result"
    }
   ],
   "source": [
    "df[df['City'] == 'New York']"
   ]
  },
  {
   "cell_type": "code",
   "execution_count": 29,
   "id": "aa89c110",
   "metadata": {},
   "outputs": [
    {
     "data": {
      "text/html": [
       "<div>\n",
       "<style scoped>\n",
       "    .dataframe tbody tr th:only-of-type {\n",
       "        vertical-align: middle;\n",
       "    }\n",
       "\n",
       "    .dataframe tbody tr th {\n",
       "        vertical-align: top;\n",
       "    }\n",
       "\n",
       "    .dataframe thead th {\n",
       "        text-align: right;\n",
       "    }\n",
       "</style>\n",
       "<table border=\"1\" class=\"dataframe\">\n",
       "  <thead>\n",
       "    <tr style=\"text-align: right;\">\n",
       "      <th></th>\n",
       "      <th>Store_ID</th>\n",
       "      <th>Store_Name</th>\n",
       "      <th>City</th>\n",
       "      <th>Country</th>\n",
       "    </tr>\n",
       "  </thead>\n",
       "  <tbody>\n",
       "    <tr>\n",
       "      <th>0</th>\n",
       "      <td>ST-1</td>\n",
       "      <td>Apple Fifth Avenue</td>\n",
       "      <td>New York</td>\n",
       "      <td>United States</td>\n",
       "    </tr>\n",
       "    <tr>\n",
       "      <th>1</th>\n",
       "      <td>ST-2</td>\n",
       "      <td>Apple Union Square</td>\n",
       "      <td>San Francisco</td>\n",
       "      <td>United States</td>\n",
       "    </tr>\n",
       "    <tr>\n",
       "      <th>2</th>\n",
       "      <td>ST-3</td>\n",
       "      <td>Apple Michigan Avenue</td>\n",
       "      <td>Chicago</td>\n",
       "      <td>United States</td>\n",
       "    </tr>\n",
       "    <tr>\n",
       "      <th>3</th>\n",
       "      <td>ST-4</td>\n",
       "      <td>Apple The Grove</td>\n",
       "      <td>Los Angeles</td>\n",
       "      <td>United States</td>\n",
       "    </tr>\n",
       "    <tr>\n",
       "      <th>4</th>\n",
       "      <td>ST-5</td>\n",
       "      <td>Apple SoHo</td>\n",
       "      <td>New York</td>\n",
       "      <td>United States</td>\n",
       "    </tr>\n",
       "  </tbody>\n",
       "</table>\n",
       "</div>"
      ],
      "text/plain": [
       "  Store_ID             Store_Name           City        Country\n",
       "0     ST-1     Apple Fifth Avenue       New York  United States\n",
       "1     ST-2     Apple Union Square  San Francisco  United States\n",
       "2     ST-3  Apple Michigan Avenue        Chicago  United States\n",
       "3     ST-4        Apple The Grove    Los Angeles  United States\n",
       "4     ST-5             Apple SoHo       New York  United States"
      ]
     },
     "execution_count": 29,
     "metadata": {},
     "output_type": "execute_result"
    }
   ],
   "source": [
    "df.head()"
   ]
  },
  {
   "cell_type": "code",
   "execution_count": 30,
   "id": "3d70a7b0",
   "metadata": {},
   "outputs": [
    {
     "data": {
      "text/html": [
       "<div>\n",
       "<style scoped>\n",
       "    .dataframe tbody tr th:only-of-type {\n",
       "        vertical-align: middle;\n",
       "    }\n",
       "\n",
       "    .dataframe tbody tr th {\n",
       "        vertical-align: top;\n",
       "    }\n",
       "\n",
       "    .dataframe thead th {\n",
       "        text-align: right;\n",
       "    }\n",
       "</style>\n",
       "<table border=\"1\" class=\"dataframe\">\n",
       "  <thead>\n",
       "    <tr style=\"text-align: right;\">\n",
       "      <th></th>\n",
       "      <th>Store_ID</th>\n",
       "      <th>Store_Name</th>\n",
       "      <th>City</th>\n",
       "      <th>Country</th>\n",
       "    </tr>\n",
       "  </thead>\n",
       "  <tbody>\n",
       "    <tr>\n",
       "      <th>45</th>\n",
       "      <td>ST-46</td>\n",
       "      <td>Apple Eaton Centre</td>\n",
       "      <td>Toronto</td>\n",
       "      <td>Canada</td>\n",
       "    </tr>\n",
       "    <tr>\n",
       "      <th>48</th>\n",
       "      <td>ST-49</td>\n",
       "      <td>Apple Yorkdale</td>\n",
       "      <td>Toronto</td>\n",
       "      <td>Canada</td>\n",
       "    </tr>\n",
       "  </tbody>\n",
       "</table>\n",
       "</div>"
      ],
      "text/plain": [
       "   Store_ID          Store_Name     City Country\n",
       "45    ST-46  Apple Eaton Centre  Toronto  Canada\n",
       "48    ST-49      Apple Yorkdale  Toronto  Canada"
      ]
     },
     "execution_count": 30,
     "metadata": {},
     "output_type": "execute_result"
    }
   ],
   "source": [
    "df[(df['Country'] == 'Canada') & (df['City'] == 'Toronto')]\n"
   ]
  },
  {
   "cell_type": "code",
   "execution_count": 34,
   "id": "063e95cb",
   "metadata": {},
   "outputs": [
    {
     "data": {
      "text/plain": [
       "'Apple Downtown Brooklyn'"
      ]
     },
     "execution_count": 34,
     "metadata": {},
     "output_type": "execute_result"
    }
   ],
   "source": [
    "df.iloc[14,1]"
   ]
  },
  {
   "cell_type": "code",
   "execution_count": 38,
   "id": "0a9aed2c",
   "metadata": {},
   "outputs": [
    {
     "data": {
      "text/html": [
       "<div>\n",
       "<style scoped>\n",
       "    .dataframe tbody tr th:only-of-type {\n",
       "        vertical-align: middle;\n",
       "    }\n",
       "\n",
       "    .dataframe tbody tr th {\n",
       "        vertical-align: top;\n",
       "    }\n",
       "\n",
       "    .dataframe thead th {\n",
       "        text-align: right;\n",
       "    }\n",
       "</style>\n",
       "<table border=\"1\" class=\"dataframe\">\n",
       "  <thead>\n",
       "    <tr style=\"text-align: right;\">\n",
       "      <th></th>\n",
       "      <th>Store_ID</th>\n",
       "      <th>Store_Name</th>\n",
       "      <th>City</th>\n",
       "      <th>Country</th>\n",
       "    </tr>\n",
       "  </thead>\n",
       "  <tbody>\n",
       "    <tr>\n",
       "      <th>22</th>\n",
       "      <td>ST-23</td>\n",
       "      <td>Apple Via del Corso</td>\n",
       "      <td>Rome</td>\n",
       "      <td>Italy</td>\n",
       "    </tr>\n",
       "    <tr>\n",
       "      <th>23</th>\n",
       "      <td>ST-24</td>\n",
       "      <td>Apple Kurfuerstendamm</td>\n",
       "      <td>Berlin</td>\n",
       "      <td>Germany</td>\n",
       "    </tr>\n",
       "    <tr>\n",
       "      <th>24</th>\n",
       "      <td>ST-25</td>\n",
       "      <td>Apple Schildergasse</td>\n",
       "      <td>Cologne</td>\n",
       "      <td>Germany</td>\n",
       "    </tr>\n",
       "  </tbody>\n",
       "</table>\n",
       "</div>"
      ],
      "text/plain": [
       "   Store_ID             Store_Name     City  Country\n",
       "22    ST-23    Apple Via del Corso     Rome    Italy\n",
       "23    ST-24  Apple Kurfuerstendamm   Berlin  Germany\n",
       "24    ST-25    Apple Schildergasse  Cologne  Germany"
      ]
     },
     "execution_count": 38,
     "metadata": {},
     "output_type": "execute_result"
    }
   ],
   "source": [
    "df.iloc[22:25, 0:4]"
   ]
  },
  {
   "cell_type": "code",
   "execution_count": 41,
   "id": "1b4112d2",
   "metadata": {},
   "outputs": [],
   "source": [
    "cities = df.City"
   ]
  },
  {
   "cell_type": "code",
   "execution_count": 43,
   "id": "51af6cf9",
   "metadata": {},
   "outputs": [
    {
     "data": {
      "text/html": [
       "<div>\n",
       "<style scoped>\n",
       "    .dataframe tbody tr th:only-of-type {\n",
       "        vertical-align: middle;\n",
       "    }\n",
       "\n",
       "    .dataframe tbody tr th {\n",
       "        vertical-align: top;\n",
       "    }\n",
       "\n",
       "    .dataframe thead th {\n",
       "        text-align: right;\n",
       "    }\n",
       "</style>\n",
       "<table border=\"1\" class=\"dataframe\">\n",
       "  <thead>\n",
       "    <tr style=\"text-align: right;\">\n",
       "      <th></th>\n",
       "      <th>Store_ID</th>\n",
       "      <th>Store_Name</th>\n",
       "      <th>City</th>\n",
       "      <th>Country</th>\n",
       "    </tr>\n",
       "  </thead>\n",
       "  <tbody>\n",
       "    <tr>\n",
       "      <th>0</th>\n",
       "      <td>False</td>\n",
       "      <td>False</td>\n",
       "      <td>False</td>\n",
       "      <td>False</td>\n",
       "    </tr>\n",
       "    <tr>\n",
       "      <th>1</th>\n",
       "      <td>False</td>\n",
       "      <td>False</td>\n",
       "      <td>False</td>\n",
       "      <td>False</td>\n",
       "    </tr>\n",
       "    <tr>\n",
       "      <th>2</th>\n",
       "      <td>False</td>\n",
       "      <td>False</td>\n",
       "      <td>False</td>\n",
       "      <td>False</td>\n",
       "    </tr>\n",
       "    <tr>\n",
       "      <th>3</th>\n",
       "      <td>False</td>\n",
       "      <td>False</td>\n",
       "      <td>False</td>\n",
       "      <td>False</td>\n",
       "    </tr>\n",
       "    <tr>\n",
       "      <th>4</th>\n",
       "      <td>False</td>\n",
       "      <td>False</td>\n",
       "      <td>False</td>\n",
       "      <td>False</td>\n",
       "    </tr>\n",
       "    <tr>\n",
       "      <th>...</th>\n",
       "      <td>...</td>\n",
       "      <td>...</td>\n",
       "      <td>...</td>\n",
       "      <td>...</td>\n",
       "    </tr>\n",
       "    <tr>\n",
       "      <th>70</th>\n",
       "      <td>False</td>\n",
       "      <td>False</td>\n",
       "      <td>False</td>\n",
       "      <td>False</td>\n",
       "    </tr>\n",
       "    <tr>\n",
       "      <th>71</th>\n",
       "      <td>False</td>\n",
       "      <td>False</td>\n",
       "      <td>False</td>\n",
       "      <td>False</td>\n",
       "    </tr>\n",
       "    <tr>\n",
       "      <th>72</th>\n",
       "      <td>False</td>\n",
       "      <td>False</td>\n",
       "      <td>False</td>\n",
       "      <td>False</td>\n",
       "    </tr>\n",
       "    <tr>\n",
       "      <th>73</th>\n",
       "      <td>False</td>\n",
       "      <td>False</td>\n",
       "      <td>False</td>\n",
       "      <td>False</td>\n",
       "    </tr>\n",
       "    <tr>\n",
       "      <th>74</th>\n",
       "      <td>False</td>\n",
       "      <td>False</td>\n",
       "      <td>False</td>\n",
       "      <td>False</td>\n",
       "    </tr>\n",
       "  </tbody>\n",
       "</table>\n",
       "<p>75 rows × 4 columns</p>\n",
       "</div>"
      ],
      "text/plain": [
       "    Store_ID  Store_Name   City  Country\n",
       "0      False       False  False    False\n",
       "1      False       False  False    False\n",
       "2      False       False  False    False\n",
       "3      False       False  False    False\n",
       "4      False       False  False    False\n",
       "..       ...         ...    ...      ...\n",
       "70     False       False  False    False\n",
       "71     False       False  False    False\n",
       "72     False       False  False    False\n",
       "73     False       False  False    False\n",
       "74     False       False  False    False\n",
       "\n",
       "[75 rows x 4 columns]"
      ]
     },
     "execution_count": 43,
     "metadata": {},
     "output_type": "execute_result"
    }
   ],
   "source": [
    "df.isnull()"
   ]
  },
  {
   "cell_type": "code",
   "execution_count": 45,
   "id": "2baca23f",
   "metadata": {},
   "outputs": [
    {
     "data": {
      "text/html": [
       "<div>\n",
       "<style scoped>\n",
       "    .dataframe tbody tr th:only-of-type {\n",
       "        vertical-align: middle;\n",
       "    }\n",
       "\n",
       "    .dataframe tbody tr th {\n",
       "        vertical-align: top;\n",
       "    }\n",
       "\n",
       "    .dataframe thead th {\n",
       "        text-align: right;\n",
       "    }\n",
       "</style>\n",
       "<table border=\"1\" class=\"dataframe\">\n",
       "  <thead>\n",
       "    <tr style=\"text-align: right;\">\n",
       "      <th></th>\n",
       "      <th>Store_ID</th>\n",
       "      <th>Store_Name</th>\n",
       "      <th>City</th>\n",
       "      <th>Country</th>\n",
       "    </tr>\n",
       "  </thead>\n",
       "  <tbody>\n",
       "    <tr>\n",
       "      <th>8</th>\n",
       "      <td>ST-9</td>\n",
       "      <td>Apple Park Visitor Center</td>\n",
       "      <td>Cupertino</td>\n",
       "      <td>United States</td>\n",
       "    </tr>\n",
       "  </tbody>\n",
       "</table>\n",
       "</div>"
      ],
      "text/plain": [
       "  Store_ID                 Store_Name       City        Country\n",
       "8     ST-9  Apple Park Visitor Center  Cupertino  United States"
      ]
     },
     "execution_count": 45,
     "metadata": {},
     "output_type": "execute_result"
    }
   ],
   "source": [
    "df[df['City'] == 'Cupertino']"
   ]
  },
  {
   "cell_type": "code",
   "execution_count": 48,
   "id": "ba14ebc5",
   "metadata": {},
   "outputs": [],
   "source": [
    "df['A-class'] = (df['City'] == 'Cupertino').apply(lambda x: 'Yes' if x > 5 else 'No')"
   ]
  },
  {
   "cell_type": "code",
   "execution_count": 51,
   "id": "89bdbe28",
   "metadata": {},
   "outputs": [
    {
     "data": {
      "text/plain": [
       "0     False\n",
       "1     False\n",
       "2     False\n",
       "3     False\n",
       "4     False\n",
       "      ...  \n",
       "70    False\n",
       "71    False\n",
       "72    False\n",
       "73    False\n",
       "74    False\n",
       "Name: City, Length: 75, dtype: bool"
      ]
     },
     "execution_count": 51,
     "metadata": {},
     "output_type": "execute_result"
    }
   ],
   "source": [
    "df['City'] == 'Cupertino'"
   ]
  },
  {
   "cell_type": "code",
   "execution_count": 52,
   "id": "3aea7c63",
   "metadata": {},
   "outputs": [
    {
     "data": {
      "text/html": [
       "<div>\n",
       "<style scoped>\n",
       "    .dataframe tbody tr th:only-of-type {\n",
       "        vertical-align: middle;\n",
       "    }\n",
       "\n",
       "    .dataframe tbody tr th {\n",
       "        vertical-align: top;\n",
       "    }\n",
       "\n",
       "    .dataframe thead th {\n",
       "        text-align: right;\n",
       "    }\n",
       "</style>\n",
       "<table border=\"1\" class=\"dataframe\">\n",
       "  <thead>\n",
       "    <tr style=\"text-align: right;\">\n",
       "      <th></th>\n",
       "      <th>Store_ID</th>\n",
       "      <th>Store_Name</th>\n",
       "      <th>City</th>\n",
       "      <th>Country</th>\n",
       "      <th>A-class</th>\n",
       "    </tr>\n",
       "  </thead>\n",
       "  <tbody>\n",
       "  </tbody>\n",
       "</table>\n",
       "</div>"
      ],
      "text/plain": [
       "Empty DataFrame\n",
       "Columns: [Store_ID, Store_Name, City, Country, A-class]\n",
       "Index: []"
      ]
     },
     "execution_count": 52,
     "metadata": {},
     "output_type": "execute_result"
    }
   ],
   "source": [
    "df[(df['Country'] == 'Unites States') & (df['City'] == 'Cupertino')]"
   ]
  },
  {
   "cell_type": "markdown",
   "id": "7cff92a9",
   "metadata": {},
   "source": [
    "## Output Format"
   ]
  },
  {
   "cell_type": "code",
   "execution_count": 53,
   "id": "780d6c8e",
   "metadata": {},
   "outputs": [],
   "source": [
    "df.to_csv('A-classStores.cvs')"
   ]
  },
  {
   "cell_type": "code",
   "execution_count": 54,
   "id": "82064034",
   "metadata": {},
   "outputs": [
    {
     "data": {
      "text/plain": [
       "'{\"Store_ID\":{\"0\":\"ST-1\",\"1\":\"ST-2\",\"2\":\"ST-3\",\"3\":\"ST-4\",\"4\":\"ST-5\",\"5\":\"ST-6\",\"6\":\"ST-7\",\"7\":\"ST-8\",\"8\":\"ST-9\",\"9\":\"ST-10\",\"10\":\"ST-11\",\"11\":\"ST-12\",\"12\":\"ST-13\",\"13\":\"ST-14\",\"14\":\"ST-15\",\"15\":\"ST-16\",\"16\":\"ST-17\",\"17\":\"ST-18\",\"18\":\"ST-19\",\"19\":\"ST-20\",\"20\":\"ST-21\",\"21\":\"ST-22\",\"22\":\"ST-23\",\"23\":\"ST-24\",\"24\":\"ST-25\",\"25\":\"ST-26\",\"26\":\"ST-27\",\"27\":\"ST-28\",\"28\":\"ST-29\",\"29\":\"ST-30\",\"30\":\"ST-31\",\"31\":\"ST-32\",\"32\":\"ST-33\",\"33\":\"ST-34\",\"34\":\"ST-35\",\"35\":\"ST-36\",\"36\":\"ST-37\",\"37\":\"ST-38\",\"38\":\"ST-39\",\"39\":\"ST-40\",\"40\":\"ST-41\",\"41\":\"ST-42\",\"42\":\"ST-43\",\"43\":\"ST-44\",\"44\":\"ST-45\",\"45\":\"ST-46\",\"46\":\"ST-47\",\"47\":\"ST-48\",\"48\":\"ST-49\",\"49\":\"ST-50\",\"50\":\"ST-51\",\"51\":\"ST-52\",\"52\":\"ST-53\",\"53\":\"ST-54\",\"54\":\"ST-55\",\"55\":\"ST-56\",\"56\":\"ST-57\",\"57\":\"ST-58\",\"58\":\"ST-59\",\"59\":\"ST-60\",\"60\":\"ST-61\",\"61\":\"ST-62\",\"62\":\"ST-63\",\"63\":\"ST-64\",\"64\":\"ST-65\",\"65\":\"ST-66\",\"66\":\"ST-67\",\"67\":\"ST-68\",\"68\":\"ST-69\",\"69\":\"ST-70\",\"70\":\"ST-71\",\"71\":\"ST-72\",\"72\":\"ST-73\",\"73\":\"ST-74\",\"74\":\"ST-75\"},\"Store_Name\":{\"0\":\"Apple Fifth Avenue\",\"1\":\"Apple Union Square\",\"2\":\"Apple Michigan Avenue\",\"3\":\"Apple The Grove\",\"4\":\"Apple SoHo\",\"5\":\"Apple Grand Central\",\"6\":\"Apple Beverly Center\",\"7\":\"Apple Pioneer Place\",\"8\":\"Apple Park Visitor Center\",\"9\":\"Apple South Coast Plaza\",\"10\":\"Apple Ala Moana\",\"11\":\"Apple North Michigan Avenue\",\"12\":\"Apple Walnut Street\",\"13\":\"Apple The Americana at Brand\",\"14\":\"Apple Downtown Brooklyn\",\"15\":\"Apple Regent Street\",\"16\":\"Apple Covent Garden\",\"17\":\"Apple Champs-Elysees\",\"18\":\"Apple Opera\",\"19\":\"Apple Kaerntner Strasse\",\"20\":\"Apple Passeig de Gracia\",\"21\":\"Apple Piazza Liberty\",\"22\":\"Apple Via del Corso\",\"23\":\"Apple Kurfuerstendamm\",\"24\":\"Apple Schildergasse\",\"25\":\"Apple Leidseplein\",\"26\":\"Apple Rosenstrasse\",\"27\":\"Apple Brompton Road\",\"28\":\"Apple Galeries Lafayette\",\"29\":\"Apple Dubai Mall\",\"30\":\"Apple Shinjuku\",\"31\":\"Apple Omotesando\",\"32\":\"Apple Marunouchi\",\"33\":\"Apple Fukuoka\",\"34\":\"Apple Shanghai IFC\",\"35\":\"Apple Nanjing East\",\"36\":\"Apple Sanlitun\",\"37\":\"Apple Taikoo Li\",\"38\":\"Apple Taipei 101\",\"39\":\"Apple Causeway Bay\",\"40\":\"Apple Central World\",\"41\":\"Apple Orchard Road\",\"42\":\"Apple Cotai Central\",\"43\":\"Apple Kyoto\",\"44\":\"Apple Jewel Changi Airport\",\"45\":\"Apple Eaton Centre\",\"46\":\"Apple Rideau Centre\",\"47\":\"Apple Sainte-Catherine\",\"48\":\"Apple Yorkdale\",\"49\":\"Apple Metrotown\",\"50\":\"Apple Sydney\",\"51\":\"Apple Chadstone\",\"52\":\"Apple Brisbane\",\"53\":\"Apple Bondi\",\"54\":\"Apple Highpoint\",\"55\":\"Apple Southland\",\"56\":\"Apple Yas Mall\",\"57\":\"Apple The Dubai Mall\",\"58\":\"Apple Mall of the Emirates\",\"59\":\"Apple Antara\",\"60\":\"Apple Santa Fe\",\"61\":\"Apple Via Santa Fe\",\"62\":\"Apple Parque La Colina\",\"63\":\"Apple Andino\",\"64\":\"Apple Iconsiam\",\"65\":\"Apple Orchard Road\",\"66\":\"Apple Chadstone\",\"67\":\"Apple Champs-Elysees\",\"68\":\"Apple The Dubai Mall\",\"69\":\"Apple Gangnam\",\"70\":\"Apple Yeouido\",\"71\":\"Apple Kumamoto\",\"72\":\"Apple Covent Garden\",\"73\":\"Apple Central World\",\"74\":\"Apple Beijing SKP\"},\"City\":{\"0\":\"New York\",\"1\":\"San Francisco\",\"2\":\"Chicago\",\"3\":\"Los Angeles\",\"4\":\"New York\",\"5\":\"New York\",\"6\":\"Los Angeles\",\"7\":\"Portland\",\"8\":\"Cupertino\",\"9\":\"Costa Mesa\",\"10\":\"Honolulu\",\"11\":\"Chicago\",\"12\":\"Philadelphia\",\"13\":\"Glendale\",\"14\":\"Brooklyn\",\"15\":\"London\",\"16\":\"London\",\"17\":\"Paris\",\"18\":\"Paris\",\"19\":\"Vienna\",\"20\":\"Barcelona\",\"21\":\"Milan\",\"22\":\"Rome\",\"23\":\"Berlin\",\"24\":\"Cologne\",\"25\":\"Amsterdam\",\"26\":\"Munich\",\"27\":\"London\",\"28\":\"Paris\",\"29\":\"Dubai\",\"30\":\"Tokyo\",\"31\":\"Tokyo\",\"32\":\"Tokyo\",\"33\":\"Fukuoka\",\"34\":\"Shanghai\",\"35\":\"Shanghai\",\"36\":\"Beijing\",\"37\":\"Chengdu\",\"38\":\"Taipei\",\"39\":\"Hong Kong\",\"40\":\"Bangkok\",\"41\":\"Singapore\",\"42\":\"Macau\",\"43\":\"Kyoto\",\"44\":\"Singapore\",\"45\":\"Toronto\",\"46\":\"Ottawa\",\"47\":\"Montreal\",\"48\":\"Toronto\",\"49\":\"Burnaby\",\"50\":\"Sydney\",\"51\":\"Melbourne\",\"52\":\"Brisbane\",\"53\":\"Bondi\",\"54\":\"Melbourne\",\"55\":\"Cheltenham\",\"56\":\"Abu Dhabi\",\"57\":\"Dubai\",\"58\":\"Dubai\",\"59\":\"Mexico City\",\"60\":\"Mexico City\",\"61\":\"Mexico City\",\"62\":\"Bogota\",\"63\":\"Bogota\",\"64\":\"Bangkok\",\"65\":\"Singapore\",\"66\":\"Melbourne\",\"67\":\"Paris\",\"68\":\"Dubai\",\"69\":\"Seoul\",\"70\":\"Seoul\",\"71\":\"Kumamoto\",\"72\":\"London\",\"73\":\"Bangkok\",\"74\":\"Beijing\"},\"Country\":{\"0\":\"United States\",\"1\":\"United States\",\"2\":\"United States\",\"3\":\"United States\",\"4\":\"United States\",\"5\":\"United States\",\"6\":\"United States\",\"7\":\"United States\",\"8\":\"United States\",\"9\":\"United States\",\"10\":\"United States\",\"11\":\"United States\",\"12\":\"United States\",\"13\":\"United States\",\"14\":\"United States\",\"15\":\"United Kingdom\",\"16\":\"United Kingdom\",\"17\":\"France\",\"18\":\"France\",\"19\":\"Austria\",\"20\":\"Spain\",\"21\":\"Italy\",\"22\":\"Italy\",\"23\":\"Germany\",\"24\":\"Germany\",\"25\":\"Netherlands\",\"26\":\"Germany\",\"27\":\"United Kingdom\",\"28\":\"France\",\"29\":\"UAE\",\"30\":\"Japan\",\"31\":\"Japan\",\"32\":\"Japan\",\"33\":\"Japan\",\"34\":\"China\",\"35\":\"China\",\"36\":\"China\",\"37\":\"China\",\"38\":\"Taiwan\",\"39\":\"China\",\"40\":\"Thailand\",\"41\":\"Singapore\",\"42\":\"China\",\"43\":\"Japan\",\"44\":\"Singapore\",\"45\":\"Canada\",\"46\":\"Canada\",\"47\":\"Canada\",\"48\":\"Canada\",\"49\":\"Canada\",\"50\":\"Australia\",\"51\":\"Australia\",\"52\":\"Australia\",\"53\":\"Australia\",\"54\":\"Australia\",\"55\":\"Australia\",\"56\":\"UAE\",\"57\":\"UAE\",\"58\":\"UAE\",\"59\":\"Mexico\",\"60\":\"Mexico\",\"61\":\"Mexico\",\"62\":\"Colombia\",\"63\":\"Colombia\",\"64\":\"Thailand\",\"65\":\"Singapore\",\"66\":\"Australia\",\"67\":\"France\",\"68\":\"UAE\",\"69\":\"South Korea\",\"70\":\"South Korea\",\"71\":\"Japan\",\"72\":\"United Kingdom\",\"73\":\"Thailand\",\"74\":\"China\"},\"A-class\":{\"0\":\"No\",\"1\":\"No\",\"2\":\"No\",\"3\":\"No\",\"4\":\"No\",\"5\":\"No\",\"6\":\"No\",\"7\":\"No\",\"8\":\"No\",\"9\":\"No\",\"10\":\"No\",\"11\":\"No\",\"12\":\"No\",\"13\":\"No\",\"14\":\"No\",\"15\":\"No\",\"16\":\"No\",\"17\":\"No\",\"18\":\"No\",\"19\":\"No\",\"20\":\"No\",\"21\":\"No\",\"22\":\"No\",\"23\":\"No\",\"24\":\"No\",\"25\":\"No\",\"26\":\"No\",\"27\":\"No\",\"28\":\"No\",\"29\":\"No\",\"30\":\"No\",\"31\":\"No\",\"32\":\"No\",\"33\":\"No\",\"34\":\"No\",\"35\":\"No\",\"36\":\"No\",\"37\":\"No\",\"38\":\"No\",\"39\":\"No\",\"40\":\"No\",\"41\":\"No\",\"42\":\"No\",\"43\":\"No\",\"44\":\"No\",\"45\":\"No\",\"46\":\"No\",\"47\":\"No\",\"48\":\"No\",\"49\":\"No\",\"50\":\"No\",\"51\":\"No\",\"52\":\"No\",\"53\":\"No\",\"54\":\"No\",\"55\":\"No\",\"56\":\"No\",\"57\":\"No\",\"58\":\"No\",\"59\":\"No\",\"60\":\"No\",\"61\":\"No\",\"62\":\"No\",\"63\":\"No\",\"64\":\"No\",\"65\":\"No\",\"66\":\"No\",\"67\":\"No\",\"68\":\"No\",\"69\":\"No\",\"70\":\"No\",\"71\":\"No\",\"72\":\"No\",\"73\":\"No\",\"74\":\"No\"}}'"
      ]
     },
     "execution_count": 54,
     "metadata": {},
     "output_type": "execute_result"
    }
   ],
   "source": [
    "df.to_json()"
   ]
  },
  {
   "cell_type": "code",
   "execution_count": 55,
   "id": "afcb4232",
   "metadata": {},
   "outputs": [
    {
     "data": {
      "text/plain": [
       "'<table border=\"1\" class=\"dataframe\">\\n  <thead>\\n    <tr style=\"text-align: right;\">\\n      <th></th>\\n      <th>Store_ID</th>\\n      <th>Store_Name</th>\\n      <th>City</th>\\n      <th>Country</th>\\n      <th>A-class</th>\\n    </tr>\\n  </thead>\\n  <tbody>\\n    <tr>\\n      <th>0</th>\\n      <td>ST-1</td>\\n      <td>Apple Fifth Avenue</td>\\n      <td>New York</td>\\n      <td>United States</td>\\n      <td>No</td>\\n    </tr>\\n    <tr>\\n      <th>1</th>\\n      <td>ST-2</td>\\n      <td>Apple Union Square</td>\\n      <td>San Francisco</td>\\n      <td>United States</td>\\n      <td>No</td>\\n    </tr>\\n    <tr>\\n      <th>2</th>\\n      <td>ST-3</td>\\n      <td>Apple Michigan Avenue</td>\\n      <td>Chicago</td>\\n      <td>United States</td>\\n      <td>No</td>\\n    </tr>\\n    <tr>\\n      <th>3</th>\\n      <td>ST-4</td>\\n      <td>Apple The Grove</td>\\n      <td>Los Angeles</td>\\n      <td>United States</td>\\n      <td>No</td>\\n    </tr>\\n    <tr>\\n      <th>4</th>\\n      <td>ST-5</td>\\n      <td>Apple SoHo</td>\\n      <td>New York</td>\\n      <td>United States</td>\\n      <td>No</td>\\n    </tr>\\n    <tr>\\n      <th>5</th>\\n      <td>ST-6</td>\\n      <td>Apple Grand Central</td>\\n      <td>New York</td>\\n      <td>United States</td>\\n      <td>No</td>\\n    </tr>\\n    <tr>\\n      <th>6</th>\\n      <td>ST-7</td>\\n      <td>Apple Beverly Center</td>\\n      <td>Los Angeles</td>\\n      <td>United States</td>\\n      <td>No</td>\\n    </tr>\\n    <tr>\\n      <th>7</th>\\n      <td>ST-8</td>\\n      <td>Apple Pioneer Place</td>\\n      <td>Portland</td>\\n      <td>United States</td>\\n      <td>No</td>\\n    </tr>\\n    <tr>\\n      <th>8</th>\\n      <td>ST-9</td>\\n      <td>Apple Park Visitor Center</td>\\n      <td>Cupertino</td>\\n      <td>United States</td>\\n      <td>No</td>\\n    </tr>\\n    <tr>\\n      <th>9</th>\\n      <td>ST-10</td>\\n      <td>Apple South Coast Plaza</td>\\n      <td>Costa Mesa</td>\\n      <td>United States</td>\\n      <td>No</td>\\n    </tr>\\n    <tr>\\n      <th>10</th>\\n      <td>ST-11</td>\\n      <td>Apple Ala Moana</td>\\n      <td>Honolulu</td>\\n      <td>United States</td>\\n      <td>No</td>\\n    </tr>\\n    <tr>\\n      <th>11</th>\\n      <td>ST-12</td>\\n      <td>Apple North Michigan Avenue</td>\\n      <td>Chicago</td>\\n      <td>United States</td>\\n      <td>No</td>\\n    </tr>\\n    <tr>\\n      <th>12</th>\\n      <td>ST-13</td>\\n      <td>Apple Walnut Street</td>\\n      <td>Philadelphia</td>\\n      <td>United States</td>\\n      <td>No</td>\\n    </tr>\\n    <tr>\\n      <th>13</th>\\n      <td>ST-14</td>\\n      <td>Apple The Americana at Brand</td>\\n      <td>Glendale</td>\\n      <td>United States</td>\\n      <td>No</td>\\n    </tr>\\n    <tr>\\n      <th>14</th>\\n      <td>ST-15</td>\\n      <td>Apple Downtown Brooklyn</td>\\n      <td>Brooklyn</td>\\n      <td>United States</td>\\n      <td>No</td>\\n    </tr>\\n    <tr>\\n      <th>15</th>\\n      <td>ST-16</td>\\n      <td>Apple Regent Street</td>\\n      <td>London</td>\\n      <td>United Kingdom</td>\\n      <td>No</td>\\n    </tr>\\n    <tr>\\n      <th>16</th>\\n      <td>ST-17</td>\\n      <td>Apple Covent Garden</td>\\n      <td>London</td>\\n      <td>United Kingdom</td>\\n      <td>No</td>\\n    </tr>\\n    <tr>\\n      <th>17</th>\\n      <td>ST-18</td>\\n      <td>Apple Champs-Elysees</td>\\n      <td>Paris</td>\\n      <td>France</td>\\n      <td>No</td>\\n    </tr>\\n    <tr>\\n      <th>18</th>\\n      <td>ST-19</td>\\n      <td>Apple Opera</td>\\n      <td>Paris</td>\\n      <td>France</td>\\n      <td>No</td>\\n    </tr>\\n    <tr>\\n      <th>19</th>\\n      <td>ST-20</td>\\n      <td>Apple Kaerntner Strasse</td>\\n      <td>Vienna</td>\\n      <td>Austria</td>\\n      <td>No</td>\\n    </tr>\\n    <tr>\\n      <th>20</th>\\n      <td>ST-21</td>\\n      <td>Apple Passeig de Gracia</td>\\n      <td>Barcelona</td>\\n      <td>Spain</td>\\n      <td>No</td>\\n    </tr>\\n    <tr>\\n      <th>21</th>\\n      <td>ST-22</td>\\n      <td>Apple Piazza Liberty</td>\\n      <td>Milan</td>\\n      <td>Italy</td>\\n      <td>No</td>\\n    </tr>\\n    <tr>\\n      <th>22</th>\\n      <td>ST-23</td>\\n      <td>Apple Via del Corso</td>\\n      <td>Rome</td>\\n      <td>Italy</td>\\n      <td>No</td>\\n    </tr>\\n    <tr>\\n      <th>23</th>\\n      <td>ST-24</td>\\n      <td>Apple Kurfuerstendamm</td>\\n      <td>Berlin</td>\\n      <td>Germany</td>\\n      <td>No</td>\\n    </tr>\\n    <tr>\\n      <th>24</th>\\n      <td>ST-25</td>\\n      <td>Apple Schildergasse</td>\\n      <td>Cologne</td>\\n      <td>Germany</td>\\n      <td>No</td>\\n    </tr>\\n    <tr>\\n      <th>25</th>\\n      <td>ST-26</td>\\n      <td>Apple Leidseplein</td>\\n      <td>Amsterdam</td>\\n      <td>Netherlands</td>\\n      <td>No</td>\\n    </tr>\\n    <tr>\\n      <th>26</th>\\n      <td>ST-27</td>\\n      <td>Apple Rosenstrasse</td>\\n      <td>Munich</td>\\n      <td>Germany</td>\\n      <td>No</td>\\n    </tr>\\n    <tr>\\n      <th>27</th>\\n      <td>ST-28</td>\\n      <td>Apple Brompton Road</td>\\n      <td>London</td>\\n      <td>United Kingdom</td>\\n      <td>No</td>\\n    </tr>\\n    <tr>\\n      <th>28</th>\\n      <td>ST-29</td>\\n      <td>Apple Galeries Lafayette</td>\\n      <td>Paris</td>\\n      <td>France</td>\\n      <td>No</td>\\n    </tr>\\n    <tr>\\n      <th>29</th>\\n      <td>ST-30</td>\\n      <td>Apple Dubai Mall</td>\\n      <td>Dubai</td>\\n      <td>UAE</td>\\n      <td>No</td>\\n    </tr>\\n    <tr>\\n      <th>30</th>\\n      <td>ST-31</td>\\n      <td>Apple Shinjuku</td>\\n      <td>Tokyo</td>\\n      <td>Japan</td>\\n      <td>No</td>\\n    </tr>\\n    <tr>\\n      <th>31</th>\\n      <td>ST-32</td>\\n      <td>Apple Omotesando</td>\\n      <td>Tokyo</td>\\n      <td>Japan</td>\\n      <td>No</td>\\n    </tr>\\n    <tr>\\n      <th>32</th>\\n      <td>ST-33</td>\\n      <td>Apple Marunouchi</td>\\n      <td>Tokyo</td>\\n      <td>Japan</td>\\n      <td>No</td>\\n    </tr>\\n    <tr>\\n      <th>33</th>\\n      <td>ST-34</td>\\n      <td>Apple Fukuoka</td>\\n      <td>Fukuoka</td>\\n      <td>Japan</td>\\n      <td>No</td>\\n    </tr>\\n    <tr>\\n      <th>34</th>\\n      <td>ST-35</td>\\n      <td>Apple Shanghai IFC</td>\\n      <td>Shanghai</td>\\n      <td>China</td>\\n      <td>No</td>\\n    </tr>\\n    <tr>\\n      <th>35</th>\\n      <td>ST-36</td>\\n      <td>Apple Nanjing East</td>\\n      <td>Shanghai</td>\\n      <td>China</td>\\n      <td>No</td>\\n    </tr>\\n    <tr>\\n      <th>36</th>\\n      <td>ST-37</td>\\n      <td>Apple Sanlitun</td>\\n      <td>Beijing</td>\\n      <td>China</td>\\n      <td>No</td>\\n    </tr>\\n    <tr>\\n      <th>37</th>\\n      <td>ST-38</td>\\n      <td>Apple Taikoo Li</td>\\n      <td>Chengdu</td>\\n      <td>China</td>\\n      <td>No</td>\\n    </tr>\\n    <tr>\\n      <th>38</th>\\n      <td>ST-39</td>\\n      <td>Apple Taipei 101</td>\\n      <td>Taipei</td>\\n      <td>Taiwan</td>\\n      <td>No</td>\\n    </tr>\\n    <tr>\\n      <th>39</th>\\n      <td>ST-40</td>\\n      <td>Apple Causeway Bay</td>\\n      <td>Hong Kong</td>\\n      <td>China</td>\\n      <td>No</td>\\n    </tr>\\n    <tr>\\n      <th>40</th>\\n      <td>ST-41</td>\\n      <td>Apple Central World</td>\\n      <td>Bangkok</td>\\n      <td>Thailand</td>\\n      <td>No</td>\\n    </tr>\\n    <tr>\\n      <th>41</th>\\n      <td>ST-42</td>\\n      <td>Apple Orchard Road</td>\\n      <td>Singapore</td>\\n      <td>Singapore</td>\\n      <td>No</td>\\n    </tr>\\n    <tr>\\n      <th>42</th>\\n      <td>ST-43</td>\\n      <td>Apple Cotai Central</td>\\n      <td>Macau</td>\\n      <td>China</td>\\n      <td>No</td>\\n    </tr>\\n    <tr>\\n      <th>43</th>\\n      <td>ST-44</td>\\n      <td>Apple Kyoto</td>\\n      <td>Kyoto</td>\\n      <td>Japan</td>\\n      <td>No</td>\\n    </tr>\\n    <tr>\\n      <th>44</th>\\n      <td>ST-45</td>\\n      <td>Apple Jewel Changi Airport</td>\\n      <td>Singapore</td>\\n      <td>Singapore</td>\\n      <td>No</td>\\n    </tr>\\n    <tr>\\n      <th>45</th>\\n      <td>ST-46</td>\\n      <td>Apple Eaton Centre</td>\\n      <td>Toronto</td>\\n      <td>Canada</td>\\n      <td>No</td>\\n    </tr>\\n    <tr>\\n      <th>46</th>\\n      <td>ST-47</td>\\n      <td>Apple Rideau Centre</td>\\n      <td>Ottawa</td>\\n      <td>Canada</td>\\n      <td>No</td>\\n    </tr>\\n    <tr>\\n      <th>47</th>\\n      <td>ST-48</td>\\n      <td>Apple Sainte-Catherine</td>\\n      <td>Montreal</td>\\n      <td>Canada</td>\\n      <td>No</td>\\n    </tr>\\n    <tr>\\n      <th>48</th>\\n      <td>ST-49</td>\\n      <td>Apple Yorkdale</td>\\n      <td>Toronto</td>\\n      <td>Canada</td>\\n      <td>No</td>\\n    </tr>\\n    <tr>\\n      <th>49</th>\\n      <td>ST-50</td>\\n      <td>Apple Metrotown</td>\\n      <td>Burnaby</td>\\n      <td>Canada</td>\\n      <td>No</td>\\n    </tr>\\n    <tr>\\n      <th>50</th>\\n      <td>ST-51</td>\\n      <td>Apple Sydney</td>\\n      <td>Sydney</td>\\n      <td>Australia</td>\\n      <td>No</td>\\n    </tr>\\n    <tr>\\n      <th>51</th>\\n      <td>ST-52</td>\\n      <td>Apple Chadstone</td>\\n      <td>Melbourne</td>\\n      <td>Australia</td>\\n      <td>No</td>\\n    </tr>\\n    <tr>\\n      <th>52</th>\\n      <td>ST-53</td>\\n      <td>Apple Brisbane</td>\\n      <td>Brisbane</td>\\n      <td>Australia</td>\\n      <td>No</td>\\n    </tr>\\n    <tr>\\n      <th>53</th>\\n      <td>ST-54</td>\\n      <td>Apple Bondi</td>\\n      <td>Bondi</td>\\n      <td>Australia</td>\\n      <td>No</td>\\n    </tr>\\n    <tr>\\n      <th>54</th>\\n      <td>ST-55</td>\\n      <td>Apple Highpoint</td>\\n      <td>Melbourne</td>\\n      <td>Australia</td>\\n      <td>No</td>\\n    </tr>\\n    <tr>\\n      <th>55</th>\\n      <td>ST-56</td>\\n      <td>Apple Southland</td>\\n      <td>Cheltenham</td>\\n      <td>Australia</td>\\n      <td>No</td>\\n    </tr>\\n    <tr>\\n      <th>56</th>\\n      <td>ST-57</td>\\n      <td>Apple Yas Mall</td>\\n      <td>Abu Dhabi</td>\\n      <td>UAE</td>\\n      <td>No</td>\\n    </tr>\\n    <tr>\\n      <th>57</th>\\n      <td>ST-58</td>\\n      <td>Apple The Dubai Mall</td>\\n      <td>Dubai</td>\\n      <td>UAE</td>\\n      <td>No</td>\\n    </tr>\\n    <tr>\\n      <th>58</th>\\n      <td>ST-59</td>\\n      <td>Apple Mall of the Emirates</td>\\n      <td>Dubai</td>\\n      <td>UAE</td>\\n      <td>No</td>\\n    </tr>\\n    <tr>\\n      <th>59</th>\\n      <td>ST-60</td>\\n      <td>Apple Antara</td>\\n      <td>Mexico City</td>\\n      <td>Mexico</td>\\n      <td>No</td>\\n    </tr>\\n    <tr>\\n      <th>60</th>\\n      <td>ST-61</td>\\n      <td>Apple Santa Fe</td>\\n      <td>Mexico City</td>\\n      <td>Mexico</td>\\n      <td>No</td>\\n    </tr>\\n    <tr>\\n      <th>61</th>\\n      <td>ST-62</td>\\n      <td>Apple Via Santa Fe</td>\\n      <td>Mexico City</td>\\n      <td>Mexico</td>\\n      <td>No</td>\\n    </tr>\\n    <tr>\\n      <th>62</th>\\n      <td>ST-63</td>\\n      <td>Apple Parque La Colina</td>\\n      <td>Bogota</td>\\n      <td>Colombia</td>\\n      <td>No</td>\\n    </tr>\\n    <tr>\\n      <th>63</th>\\n      <td>ST-64</td>\\n      <td>Apple Andino</td>\\n      <td>Bogota</td>\\n      <td>Colombia</td>\\n      <td>No</td>\\n    </tr>\\n    <tr>\\n      <th>64</th>\\n      <td>ST-65</td>\\n      <td>Apple Iconsiam</td>\\n      <td>Bangkok</td>\\n      <td>Thailand</td>\\n      <td>No</td>\\n    </tr>\\n    <tr>\\n      <th>65</th>\\n      <td>ST-66</td>\\n      <td>Apple Orchard Road</td>\\n      <td>Singapore</td>\\n      <td>Singapore</td>\\n      <td>No</td>\\n    </tr>\\n    <tr>\\n      <th>66</th>\\n      <td>ST-67</td>\\n      <td>Apple Chadstone</td>\\n      <td>Melbourne</td>\\n      <td>Australia</td>\\n      <td>No</td>\\n    </tr>\\n    <tr>\\n      <th>67</th>\\n      <td>ST-68</td>\\n      <td>Apple Champs-Elysees</td>\\n      <td>Paris</td>\\n      <td>France</td>\\n      <td>No</td>\\n    </tr>\\n    <tr>\\n      <th>68</th>\\n      <td>ST-69</td>\\n      <td>Apple The Dubai Mall</td>\\n      <td>Dubai</td>\\n      <td>UAE</td>\\n      <td>No</td>\\n    </tr>\\n    <tr>\\n      <th>69</th>\\n      <td>ST-70</td>\\n      <td>Apple Gangnam</td>\\n      <td>Seoul</td>\\n      <td>South Korea</td>\\n      <td>No</td>\\n    </tr>\\n    <tr>\\n      <th>70</th>\\n      <td>ST-71</td>\\n      <td>Apple Yeouido</td>\\n      <td>Seoul</td>\\n      <td>South Korea</td>\\n      <td>No</td>\\n    </tr>\\n    <tr>\\n      <th>71</th>\\n      <td>ST-72</td>\\n      <td>Apple Kumamoto</td>\\n      <td>Kumamoto</td>\\n      <td>Japan</td>\\n      <td>No</td>\\n    </tr>\\n    <tr>\\n      <th>72</th>\\n      <td>ST-73</td>\\n      <td>Apple Covent Garden</td>\\n      <td>London</td>\\n      <td>United Kingdom</td>\\n      <td>No</td>\\n    </tr>\\n    <tr>\\n      <th>73</th>\\n      <td>ST-74</td>\\n      <td>Apple Central World</td>\\n      <td>Bangkok</td>\\n      <td>Thailand</td>\\n      <td>No</td>\\n    </tr>\\n    <tr>\\n      <th>74</th>\\n      <td>ST-75</td>\\n      <td>Apple Beijing SKP</td>\\n      <td>Beijing</td>\\n      <td>China</td>\\n      <td>No</td>\\n    </tr>\\n  </tbody>\\n</table>'"
      ]
     },
     "execution_count": 55,
     "metadata": {},
     "output_type": "execute_result"
    }
   ],
   "source": [
    "df.to_html()"
   ]
  },
  {
   "cell_type": "code",
   "execution_count": null,
   "id": "f58a119e",
   "metadata": {},
   "outputs": [],
   "source": []
  }
 ],
 "metadata": {
  "kernelspec": {
   "display_name": "venv",
   "language": "python",
   "name": "python3"
  },
  "language_info": {
   "codemirror_mode": {
    "name": "ipython",
    "version": 3
   },
   "file_extension": ".py",
   "mimetype": "text/x-python",
   "name": "python",
   "nbconvert_exporter": "python",
   "pygments_lexer": "ipython3",
   "version": "3.14.0"
  }
 },
 "nbformat": 4,
 "nbformat_minor": 5
}
